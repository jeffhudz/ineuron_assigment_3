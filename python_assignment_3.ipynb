{
 "cells": [
  {
   "cell_type": "markdown",
   "id": "f64148c1",
   "metadata": {},
   "source": [
    "## 1.1 Write a Python Program to implement your own myreduce() function which works exactly\n",
    "## like Python's built-in function reduce()"
   ]
  },
  {
   "cell_type": "code",
   "execution_count": 13,
   "id": "2a4760b4",
   "metadata": {},
   "outputs": [],
   "source": [
    "def my_reduce(func,iterable,initializer=None):\n",
    "    it=iter(iterable) #convert iterable to iterative object\n",
    "    \n",
    "    if initializer is None:\n",
    "        value=next(it) #obtain the initial value in the iterative object\n",
    "    else:\n",
    "        value=initializer\n",
    "    for element in it:\n",
    "        value=func(value,element)\n",
    "    return value"
   ]
  },
  {
   "cell_type": "code",
   "execution_count": 9,
   "id": "744e37d9",
   "metadata": {},
   "outputs": [
    {
     "data": {
      "text/plain": [
       "42"
      ]
     },
     "execution_count": 9,
     "metadata": {},
     "output_type": "execute_result"
    }
   ],
   "source": [
    "##Example\n",
    "List_L=[2,4,5,6,7,8,10]\n",
    "\n",
    "#using the reduce function\n",
    "import functools\n",
    "\n",
    "functools.reduce(lambda a,b:a+b,List_L)\n",
    "    "
   ]
  },
  {
   "cell_type": "code",
   "execution_count": 12,
   "id": "54ddf960",
   "metadata": {},
   "outputs": [
    {
     "data": {
      "text/plain": [
       "42"
      ]
     },
     "execution_count": 12,
     "metadata": {},
     "output_type": "execute_result"
    }
   ],
   "source": [
    "##using my reduce fucntion\n",
    "my_reduce(lambda a,b:a+b,List_L)"
   ]
  },
  {
   "cell_type": "markdown",
   "id": "1fad68c1",
   "metadata": {},
   "source": [
    "We get the same result!!!"
   ]
  },
  {
   "cell_type": "markdown",
   "id": "d9f42166",
   "metadata": {},
   "source": [
    "## 1.2 Write a Python program to implement your own myfilter() function which works exactly\n",
    "## like Python's built-in function filter()"
   ]
  },
  {
   "cell_type": "code",
   "execution_count": 36,
   "id": "30ebbbcf",
   "metadata": {},
   "outputs": [
    {
     "data": {
      "text/plain": [
       "<filter at 0x1b5b17279d0>"
      ]
     },
     "execution_count": 36,
     "metadata": {},
     "output_type": "execute_result"
    }
   ],
   "source": [
    "#lets examine the filter function on a sample list\n",
    "L=[2,3,4,5,7,8,9,10]\n",
    "\n",
    "filter(lambda x:x%2==0,L)\n"
   ]
  },
  {
   "cell_type": "code",
   "execution_count": 40,
   "id": "01688db6",
   "metadata": {},
   "outputs": [
    {
     "data": {
      "text/plain": [
       "[2, 4, 8, 10]"
      ]
     },
     "execution_count": 40,
     "metadata": {},
     "output_type": "execute_result"
    }
   ],
   "source": [
    "list(filter(lambda x:x%2==0,L))\n"
   ]
  },
  {
   "cell_type": "code",
   "execution_count": 37,
   "id": "af3f0de8",
   "metadata": {},
   "outputs": [],
   "source": [
    "#the filter function returns a generator object and so we utilize the same concept in my_filter function\n",
    "def my_filter(func,iterable):\n",
    "    \"\"\"\n",
    "       Returns a generator object of filter when func is applied to an iterable object.\n",
    "    \n",
    "       inputs:\n",
    "       func\n",
    "       iterable\n",
    "       outputs:\n",
    "       None\n",
    "    \"\"\"\n",
    "    for element in iterable:\n",
    "        if func(element)==True:\n",
    "            yield element\n",
    "     "
   ]
  },
  {
   "cell_type": "code",
   "execution_count": 41,
   "id": "a509d412",
   "metadata": {},
   "outputs": [
    {
     "data": {
      "text/plain": [
       "<generator object my_filter at 0x000001B5B17F3C80>"
      ]
     },
     "execution_count": 41,
     "metadata": {},
     "output_type": "execute_result"
    }
   ],
   "source": [
    "my_filter(lambda x:x%2==0,L)"
   ]
  },
  {
   "cell_type": "code",
   "execution_count": 38,
   "id": "03265789",
   "metadata": {},
   "outputs": [
    {
     "data": {
      "text/plain": [
       "[2, 4, 8, 10]"
      ]
     },
     "execution_count": 38,
     "metadata": {},
     "output_type": "execute_result"
    }
   ],
   "source": [
    "list(my_filter(lambda x:x%2==0,L))"
   ]
  },
  {
   "cell_type": "markdown",
   "id": "8e1a50e2",
   "metadata": {},
   "source": [
    "It can be observed from the illustration my_filter behaves and performs the same as the filter function and hence a good replica"
   ]
  },
  {
   "cell_type": "markdown",
   "id": "73c6d8d9",
   "metadata": {},
   "source": [
    "## 2. Implement List comprehensions to produce the following lists.\n",
    "## Write List comprehensions to produce the following Lists\n",
    "\n",
    "['x', 'xx', 'xxx', 'xxxx', 'y', 'yy', 'yyy', 'yyyy', 'z', 'zz', 'zzz', 'zzzz']\n",
    "['x', 'y', 'z', 'xx', 'yy', 'zz', 'xxx', 'yyy', 'zzz', 'xxxx', 'yyyy', 'zzzz']\n",
    "[[2], [3], [4], [3], [4], [5], [4], [5], [6]] [[2, 3, 4, 5], [3, 4, 5, 6],\n",
    "[4, 5, 6, 7], [5, 6, 7, 8]]\n",
    "[(1, 1), (2, 1), (3, 1), (1, 2), (2, 2), (3, 2), (1, 3), (2, 3), (3, 3)]"
   ]
  },
  {
   "cell_type": "code",
   "execution_count": 51,
   "id": "53d4d23d",
   "metadata": {},
   "outputs": [
    {
     "data": {
      "text/plain": [
       "['x', 'y', 'z', 'xx', 'yy', 'zz', 'xxx', 'yyy', 'zzz', 'xxxx', 'yyyy', 'zzzz']"
      ]
     },
     "execution_count": 51,
     "metadata": {},
     "output_type": "execute_result"
    }
   ],
   "source": [
    "[i*j for j in range(1,5) for i in ('x','y','z') ]"
   ]
  },
  {
   "cell_type": "code",
   "execution_count": 53,
   "id": "70bdbc56",
   "metadata": {},
   "outputs": [
    {
     "data": {
      "text/plain": [
       "['x', 'xx', 'xxx', 'xxxx', 'y', 'yy', 'yyy', 'yyyy', 'z', 'zz', 'zzz', 'zzzz']"
      ]
     },
     "execution_count": 53,
     "metadata": {},
     "output_type": "execute_result"
    }
   ],
   "source": [
    "sorted([j*i for i in range(1,5) for j in ('x','y','z')])"
   ]
  },
  {
   "cell_type": "code",
   "execution_count": 54,
   "id": "f55ffbc9",
   "metadata": {},
   "outputs": [
    {
     "data": {
      "text/plain": [
       "[[2], [3], [4], [3], [4], [5], [4], [5], [6]]"
      ]
     },
     "execution_count": 54,
     "metadata": {},
     "output_type": "execute_result"
    }
   ],
   "source": [
    "[[x+y] for x in range(2,5) for y in range(3)]"
   ]
  },
  {
   "cell_type": "code",
   "execution_count": 55,
   "id": "0816b1dd",
   "metadata": {},
   "outputs": [
    {
     "data": {
      "text/plain": [
       "[[2, 3, 4, 5], [3, 4, 5, 6], [4, 5, 6, 7], [5, 6, 7, 8]]"
      ]
     },
     "execution_count": 55,
     "metadata": {},
     "output_type": "execute_result"
    }
   ],
   "source": [
    "[[x+j for x in range(2,6)] for j in range(4)]"
   ]
  },
  {
   "cell_type": "code",
   "execution_count": 65,
   "id": "a688d246",
   "metadata": {},
   "outputs": [
    {
     "data": {
      "text/plain": [
       "[(1, 1), (1, 2), (1, 3), (2, 1), (2, 2), (2, 3), (3, 1), (3, 2), (3, 3)]"
      ]
     },
     "execution_count": 65,
     "metadata": {},
     "output_type": "execute_result"
    }
   ],
   "source": [
    "[(x,y) for x in range(1,4) for y in range(1,4)]"
   ]
  },
  {
   "cell_type": "code",
   "execution_count": null,
   "id": "e5b2265b",
   "metadata": {},
   "outputs": [],
   "source": []
  }
 ],
 "metadata": {
  "kernelspec": {
   "display_name": "Python 3",
   "language": "python",
   "name": "python3"
  },
  "language_info": {
   "codemirror_mode": {
    "name": "ipython",
    "version": 3
   },
   "file_extension": ".py",
   "mimetype": "text/x-python",
   "name": "python",
   "nbconvert_exporter": "python",
   "pygments_lexer": "ipython3",
   "version": "3.8.8"
  }
 },
 "nbformat": 4,
 "nbformat_minor": 5
}
